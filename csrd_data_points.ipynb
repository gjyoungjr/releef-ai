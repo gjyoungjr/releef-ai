{
 "cells": [
  {
   "cell_type": "markdown",
   "metadata": {},
   "source": [
    "## CSRD Data Points "
   ]
  },
  {
   "cell_type": "code",
   "execution_count": 29,
   "metadata": {},
   "outputs": [
    {
     "name": "stdout",
     "output_type": "stream",
     "text": [
      "Requirement already satisfied: pandas in /opt/anaconda3/lib/python3.11/site-packages (2.1.4)\n",
      "Requirement already satisfied: langchain in /opt/anaconda3/lib/python3.11/site-packages (0.2.5)\n",
      "Requirement already satisfied: jq in /opt/anaconda3/lib/python3.11/site-packages (1.8.0)\n",
      "Requirement already satisfied: langchain-openai in /opt/anaconda3/lib/python3.11/site-packages (0.1.8)\n",
      "Requirement already satisfied: langchain-core in /opt/anaconda3/lib/python3.11/site-packages (0.2.43)\n",
      "Requirement already satisfied: numpy<2,>=1.23.2 in /opt/anaconda3/lib/python3.11/site-packages (from pandas) (1.26.4)\n",
      "Requirement already satisfied: python-dateutil>=2.8.2 in /opt/anaconda3/lib/python3.11/site-packages (from pandas) (2.8.2)\n",
      "Requirement already satisfied: pytz>=2020.1 in /opt/anaconda3/lib/python3.11/site-packages (from pandas) (2023.3.post1)\n",
      "Requirement already satisfied: tzdata>=2022.1 in /opt/anaconda3/lib/python3.11/site-packages (from pandas) (2023.3)\n",
      "Requirement already satisfied: PyYAML>=5.3 in /opt/anaconda3/lib/python3.11/site-packages (from langchain) (6.0.1)\n",
      "Requirement already satisfied: SQLAlchemy<3,>=1.4 in /opt/anaconda3/lib/python3.11/site-packages (from langchain) (2.0.25)\n",
      "Requirement already satisfied: aiohttp<4.0.0,>=3.8.3 in /opt/anaconda3/lib/python3.11/site-packages (from langchain) (3.9.3)\n",
      "Requirement already satisfied: langchain-text-splitters<0.3.0,>=0.2.0 in /opt/anaconda3/lib/python3.11/site-packages (from langchain) (0.2.1)\n",
      "Requirement already satisfied: langsmith<0.2.0,>=0.1.17 in /opt/anaconda3/lib/python3.11/site-packages (from langchain) (0.1.147)\n",
      "Requirement already satisfied: pydantic<3,>=1 in /opt/anaconda3/lib/python3.11/site-packages (from langchain) (2.9.2)\n",
      "Requirement already satisfied: requests<3,>=2 in /opt/anaconda3/lib/python3.11/site-packages (from langchain) (2.32.3)\n",
      "Requirement already satisfied: tenacity<9.0.0,>=8.1.0 in /opt/anaconda3/lib/python3.11/site-packages (from langchain) (8.3.0)\n",
      "Requirement already satisfied: openai<2.0.0,>=1.26.0 in /opt/anaconda3/lib/python3.11/site-packages (from langchain-openai) (1.50.2)\n",
      "Requirement already satisfied: tiktoken<1,>=0.7 in /opt/anaconda3/lib/python3.11/site-packages (from langchain-openai) (0.7.0)\n",
      "Requirement already satisfied: jsonpatch<2.0,>=1.33 in /opt/anaconda3/lib/python3.11/site-packages (from langchain-core) (1.33)\n",
      "Requirement already satisfied: packaging<25,>=23.2 in /opt/anaconda3/lib/python3.11/site-packages (from langchain-core) (23.2)\n",
      "Requirement already satisfied: typing-extensions>=4.7 in /opt/anaconda3/lib/python3.11/site-packages (from langchain-core) (4.12.2)\n",
      "Requirement already satisfied: aiosignal>=1.1.2 in /opt/anaconda3/lib/python3.11/site-packages (from aiohttp<4.0.0,>=3.8.3->langchain) (1.2.0)\n",
      "Requirement already satisfied: attrs>=17.3.0 in /opt/anaconda3/lib/python3.11/site-packages (from aiohttp<4.0.0,>=3.8.3->langchain) (23.1.0)\n",
      "Requirement already satisfied: frozenlist>=1.1.1 in /opt/anaconda3/lib/python3.11/site-packages (from aiohttp<4.0.0,>=3.8.3->langchain) (1.4.0)\n",
      "Requirement already satisfied: multidict<7.0,>=4.5 in /opt/anaconda3/lib/python3.11/site-packages (from aiohttp<4.0.0,>=3.8.3->langchain) (6.0.4)\n",
      "Requirement already satisfied: yarl<2.0,>=1.0 in /opt/anaconda3/lib/python3.11/site-packages (from aiohttp<4.0.0,>=3.8.3->langchain) (1.9.3)\n",
      "Requirement already satisfied: jsonpointer>=1.9 in /opt/anaconda3/lib/python3.11/site-packages (from jsonpatch<2.0,>=1.33->langchain-core) (2.1)\n",
      "Requirement already satisfied: httpx<1,>=0.23.0 in /opt/anaconda3/lib/python3.11/site-packages (from langsmith<0.2.0,>=0.1.17->langchain) (0.27.0)\n",
      "Requirement already satisfied: orjson<4.0.0,>=3.9.14 in /opt/anaconda3/lib/python3.11/site-packages (from langsmith<0.2.0,>=0.1.17->langchain) (3.10.3)\n",
      "Requirement already satisfied: requests-toolbelt<2.0.0,>=1.0.0 in /opt/anaconda3/lib/python3.11/site-packages (from langsmith<0.2.0,>=0.1.17->langchain) (1.0.0)\n",
      "Requirement already satisfied: anyio<5,>=3.5.0 in /opt/anaconda3/lib/python3.11/site-packages (from openai<2.0.0,>=1.26.0->langchain-openai) (4.2.0)\n",
      "Requirement already satisfied: distro<2,>=1.7.0 in /opt/anaconda3/lib/python3.11/site-packages (from openai<2.0.0,>=1.26.0->langchain-openai) (1.8.0)\n",
      "Requirement already satisfied: jiter<1,>=0.4.0 in /opt/anaconda3/lib/python3.11/site-packages (from openai<2.0.0,>=1.26.0->langchain-openai) (0.5.0)\n",
      "Requirement already satisfied: sniffio in /opt/anaconda3/lib/python3.11/site-packages (from openai<2.0.0,>=1.26.0->langchain-openai) (1.3.0)\n",
      "Requirement already satisfied: tqdm>4 in /opt/anaconda3/lib/python3.11/site-packages (from openai<2.0.0,>=1.26.0->langchain-openai) (4.66.4)\n",
      "Requirement already satisfied: annotated-types>=0.6.0 in /opt/anaconda3/lib/python3.11/site-packages (from pydantic<3,>=1->langchain) (0.7.0)\n",
      "Requirement already satisfied: pydantic-core==2.23.4 in /opt/anaconda3/lib/python3.11/site-packages (from pydantic<3,>=1->langchain) (2.23.4)\n",
      "Requirement already satisfied: six>=1.5 in /opt/anaconda3/lib/python3.11/site-packages (from python-dateutil>=2.8.2->pandas) (1.16.0)\n",
      "Requirement already satisfied: charset-normalizer<4,>=2 in /opt/anaconda3/lib/python3.11/site-packages (from requests<3,>=2->langchain) (3.3.2)\n",
      "Requirement already satisfied: idna<4,>=2.5 in /opt/anaconda3/lib/python3.11/site-packages (from requests<3,>=2->langchain) (3.4)\n",
      "Requirement already satisfied: urllib3<3,>=1.21.1 in /opt/anaconda3/lib/python3.11/site-packages (from requests<3,>=2->langchain) (2.0.7)\n",
      "Requirement already satisfied: certifi>=2017.4.17 in /opt/anaconda3/lib/python3.11/site-packages (from requests<3,>=2->langchain) (2024.6.2)\n",
      "Requirement already satisfied: regex>=2022.1.18 in /opt/anaconda3/lib/python3.11/site-packages (from tiktoken<1,>=0.7->langchain-openai) (2023.10.3)\n",
      "Requirement already satisfied: httpcore==1.* in /opt/anaconda3/lib/python3.11/site-packages (from httpx<1,>=0.23.0->langsmith<0.2.0,>=0.1.17->langchain) (1.0.2)\n",
      "Requirement already satisfied: h11<0.15,>=0.13 in /opt/anaconda3/lib/python3.11/site-packages (from httpcore==1.*->httpx<1,>=0.23.0->langsmith<0.2.0,>=0.1.17->langchain) (0.14.0)\n",
      "Note: you may need to restart the kernel to use updated packages.\n"
     ]
    }
   ],
   "source": [
    "%pip install pandas langchain jq langchain-openai langchain-core"
   ]
  },
  {
   "cell_type": "code",
   "execution_count": 44,
   "metadata": {},
   "outputs": [],
   "source": [
    "\n",
    "import pandas as pd \n",
    "from dotenv import load_dotenv\n",
    "import json \n",
    "from langchain_openai import OpenAIEmbeddings\n",
    "from langchain.schema import Document\n",
    "from langchain_text_splitters import RecursiveCharacterTextSplitter\n",
    "from langchain_core.vectorstores import InMemoryVectorStore\n",
    "from langchain import hub\n",
    "from langchain.chat_models import init_chat_model\n",
    "import os"
   ]
  },
  {
   "cell_type": "code",
   "execution_count": 32,
   "metadata": {},
   "outputs": [],
   "source": [
    "embeddings = OpenAIEmbeddings(model=\"text-embedding-3-large\")"
   ]
  },
  {
   "cell_type": "code",
   "execution_count": 33,
   "metadata": {},
   "outputs": [],
   "source": [
    "vector_store = InMemoryVectorStore(embeddings)"
   ]
  },
  {
   "cell_type": "code",
   "execution_count": 45,
   "metadata": {},
   "outputs": [
    {
     "name": "stderr",
     "output_type": "stream",
     "text": [
      "/var/folders/87/9dqc4s4d7vv8wl84d0yy35tw0000gn/T/ipykernel_75474/2707928444.py:1: LangChainBetaWarning: The function `init_chat_model` is in beta. It is actively being worked on, so the API may change.\n",
      "  llm = init_chat_model(\"gpt-4o-mini\", model_provider=\"openai\")\n"
     ]
    }
   ],
   "source": [
    "llm = init_chat_model(\"gpt-4o-mini\", model_provider=\"openai\")"
   ]
  },
  {
   "cell_type": "markdown",
   "metadata": {},
   "source": [
    "### Load/Parse Raw Excel Data to JSON "
   ]
  },
  {
   "cell_type": "code",
   "execution_count": 3,
   "metadata": {},
   "outputs": [],
   "source": [
    "sheets_df = pd.read_excel('data/esrs_datav3.xlsx', sheet_name=None)"
   ]
  },
  {
   "cell_type": "code",
   "execution_count": 4,
   "metadata": {},
   "outputs": [
    {
     "name": "stdout",
     "output_type": "stream",
     "text": [
      "File data/csrd_datapoints.json already exists\n"
     ]
    }
   ],
   "source": [
    "sheets_data = {sheet_name: sheet.to_dict(orient=\"records\") for sheet_name, sheet in sheets_df.items()}\n",
    "\n",
    "file_path = \"data/csrd_datapoints.json\"\n",
    "\n",
    "if not os.path.exists(file_path):\n",
    "    with open(file_path, \"w\", encoding=\"utf-8\") as json_file:\n",
    "        json.dump(sheets_data, json_file, indent=4, ensure_ascii=False)\n",
    "    print(\"Data saved to csrd_datapoints.json\")\n",
    "else: \n",
    "    print(f\"File {file_path} already exists\")\n"
   ]
  },
  {
   "cell_type": "code",
   "execution_count": 5,
   "metadata": {},
   "outputs": [],
   "source": [
    "data = None \n",
    "\n",
    "with open(file_path, \"r\", encoding=\"utf-8\") as json_file:\n",
    "    data = json.load(json_file)"
   ]
  },
  {
   "cell_type": "code",
   "execution_count": 15,
   "metadata": {},
   "outputs": [],
   "source": [
    "def convert_json_to_docs(data):\n",
    "    for item in data:\n",
    "        docs = []\n",
    "        for _item in data[item]:\n",
    "            docs.append(Document(page_content=json.dumps(_item)))\n",
    "        return docs "
   ]
  },
  {
   "cell_type": "code",
   "execution_count": 16,
   "metadata": {},
   "outputs": [],
   "source": [
    "docs = convert_json_to_docs(data)"
   ]
  },
  {
   "cell_type": "code",
   "execution_count": 24,
   "metadata": {},
   "outputs": [
    {
     "name": "stdout",
     "output_type": "stream",
     "text": [
      "{\"ID\": \"BP-1_01\", \"ESRS\": \"ESRS 2\", \"DR\": \"BP-1\", \"Paragraph\": \"5 a\", \"Related AR\": NaN, \"Name\": \"Basis for preparation of sustainability statement\", \"Data Type\": \"semi-narrative\", \"Conditional or alternative DP\": NaN, \"May \\n[V]\": NaN, \"Appendix B - ESRS 2 \\n(SFDR + PILLAR 3 + Benchmark + CL)\": NaN, \"DPs to be disclosed in case of phased-in [Appendix C - ESRS 1]\\nUndertaking less than 750 employees\": NaN, \"Appendix C - ESRS 1\\n[DPs subject to phased-in]\\n\": NaN}\n"
     ]
    }
   ],
   "source": [
    "print(docs[0].page_content[:500])"
   ]
  },
  {
   "cell_type": "code",
   "execution_count": 35,
   "metadata": {},
   "outputs": [
    {
     "name": "stdout",
     "output_type": "stream",
     "text": [
      "Split blog post into 146 sub-documents.\n"
     ]
    }
   ],
   "source": [
    "text_splitter = RecursiveCharacterTextSplitter(\n",
    "    chunk_size=1000,\n",
    "    chunk_overlap=200,\n",
    "    add_start_index=True\n",
    ")\n",
    "\n",
    "doc_splits = text_splitter.split_documents(docs)\n",
    "\n",
    "print(f\"Split blog post into {len(doc_splits)} sub-documents.\")"
   ]
  },
  {
   "cell_type": "code",
   "execution_count": 36,
   "metadata": {},
   "outputs": [
    {
     "name": "stdout",
     "output_type": "stream",
     "text": [
      "['d5eef20e-846e-44d8-83ef-41deea3ead12', 'a6b8a659-14de-406b-b4ac-c1ca99700982', '7392b738-e6c9-4114-918a-d35544bca66f', 'ef7cb713-3961-45ea-b239-914a1f7cc409', '89108cc0-21cd-463f-be48-b36d8346715f']\n"
     ]
    }
   ],
   "source": [
    "doc_ids = vector_store.add_documents(doc_splits)\n",
    "\n",
    "print(doc_ids[:5])"
   ]
  },
  {
   "cell_type": "code",
   "execution_count": 38,
   "metadata": {},
   "outputs": [
    {
     "name": "stdout",
     "output_type": "stream",
     "text": [
      "You are an assistant for question-answering tasks. Use the following pieces of retrieved context to answer the question. If you don't know the answer, just say that you don't know. Use three sentences maximum and keep the answer concise.\n",
      "Question: (question goes here) \n",
      "Context: (context goes here) \n",
      "Answer:\n"
     ]
    }
   ],
   "source": [
    "prompt = hub.pull(\"rlm/rag-prompt\")\n",
    "\n",
    "example_messages = prompt.invoke(\n",
    "    {\"context\": \"(context goes here)\", \"question\": \"(question goes here)\"}\n",
    ").to_messages()\n",
    "\n",
    "assert len(example_messages) == 1\n",
    "print(example_messages[0].content)"
   ]
  },
  {
   "cell_type": "code",
   "execution_count": 39,
   "metadata": {},
   "outputs": [],
   "source": [
    "from langchain_core.documents import Document\n",
    "from typing_extensions import List, TypedDict\n",
    "\n",
    "\n",
    "class State(TypedDict):\n",
    "    question: str\n",
    "    context: List[Document]\n",
    "    answer: str"
   ]
  },
  {
   "cell_type": "code",
   "execution_count": 46,
   "metadata": {},
   "outputs": [],
   "source": [
    "def retrieve(state: State):\n",
    "    retrieved_docs = vector_store.similarity_search(state[\"question\"])\n",
    "    return {\"context\": retrieved_docs}\n",
    "\n",
    "\n",
    "def generate(state: State):\n",
    "    docs_content = \"\\n\\n\".join(doc.page_content for doc in state[\"context\"])\n",
    "    messages = prompt.invoke({\"question\": state[\"question\"], \"context\": docs_content})\n",
    "    response = llm.invoke(messages)\n",
    "    return {\"answer\": response.content}"
   ]
  },
  {
   "cell_type": "code",
   "execution_count": 47,
   "metadata": {},
   "outputs": [],
   "source": [
    "from langgraph.graph import START, StateGraph\n",
    "\n",
    "graph_builder = StateGraph(State).add_sequence([retrieve, generate])\n",
    "graph_builder.add_edge(START, \"retrieve\")\n",
    "graph = graph_builder.compile()"
   ]
  },
  {
   "cell_type": "code",
   "execution_count": 48,
   "metadata": {},
   "outputs": [
    {
     "data": {
      "image/jpeg": "[encoded data removed]",
      "text/plain": [
       "<IPython.core.display.Image object>"
      ]
     },
     "metadata": {},
     "output_type": "display_data"
    }
   ],
   "source": [
    "from IPython.display import Image, display\n",
    "\n",
    "display(Image(graph.get_graph().draw_mermaid_png()))"
   ]
  },
  {
   "cell_type": "code",
   "execution_count": 49,
   "metadata": {},
   "outputs": [
    {
     "name": "stdout",
     "output_type": "stream",
     "text": [
      "Context: [Document(id='d96f712a-a2a6-41d6-a0a0-a4a8fc401537', metadata={'start_index': 0}, page_content='{\"ID\": \"SBM-1_24\", \"ESRS\": \"ESRS 2\", \"DR\": \"SBM-1\", \"Paragraph\": \"41\", \"Related AR\": NaN, \"Name\": \"List of ESRS sectors that are significant for undertaking\", \"Data Type\": \"semi-narrative\", \"Conditional or alternative DP\": \"Conditional\", \"May \\\\n[V]\": NaN, \"Appendix B - ESRS 2 \\\\n(SFDR + PILLAR 3 + Benchmark + CL)\": NaN, \"DPs to be disclosed in case of phased-in [Appendix C - ESRS 1]\\\\nUndertaking less than 750 employees\": NaN, \"Appendix C - ESRS 1\\\\n[DPs subject to phased-in]\\\\n\": NaN}'), Document(id='d5eef20e-846e-44d8-83ef-41deea3ead12', metadata={'start_index': 0}, page_content='{\"ID\": \"BP-1_01\", \"ESRS\": \"ESRS 2\", \"DR\": \"BP-1\", \"Paragraph\": \"5 a\", \"Related AR\": NaN, \"Name\": \"Basis for preparation of sustainability statement\", \"Data Type\": \"semi-narrative\", \"Conditional or alternative DP\": NaN, \"May \\\\n[V]\": NaN, \"Appendix B - ESRS 2 \\\\n(SFDR + PILLAR 3 + Benchmark + CL)\": NaN, \"DPs to be disclosed in case of phased-in [Appendix C - ESRS 1]\\\\nUndertaking less than 750 employees\": NaN, \"Appendix C - ESRS 1\\\\n[DPs subject to phased-in]\\\\n\": NaN}'), Document(id='5597ba17-fe96-477f-81bf-a695c517674d', metadata={'start_index': 0}, page_content='{\"ID\": \"BP-2_05\", \"ESRS\": \"ESRS 2\", \"DR\": \"BP-2\", \"Paragraph\": \"10 c\", \"Related AR\": NaN, \"Name\": \"Description of resulting level of accuracy of metrics that include value chain data estimated using indirect sources \", \"Data Type\": \"narrative\", \"Conditional or alternative DP\": \"Conditional\", \"May \\\\n[V]\": NaN, \"Appendix B - ESRS 2 \\\\n(SFDR + PILLAR 3 + Benchmark + CL)\": NaN, \"DPs to be disclosed in case of phased-in [Appendix C - ESRS 1]\\\\nUndertaking less than 750 employees\": NaN, \"Appendix C - ESRS 1\\\\n[DPs subject to phased-in]\\\\n\": NaN}'), Document(id='d409210c-d84d-4078-a042-8e90af5239cc', metadata={'start_index': 0}, page_content='{\"ID\": \"BP-2_06\", \"ESRS\": \"ESRS 2\", \"DR\": \"BP-2\", \"Paragraph\": \"10 d\", \"Related AR\": NaN, \"Name\": \"Description of planned actions to improve accuracy in future of metrics that include value chain data estimated using indirect sources \", \"Data Type\": \"narrative\", \"Conditional or alternative DP\": \"Conditional\", \"May \\\\n[V]\": NaN, \"Appendix B - ESRS 2 \\\\n(SFDR + PILLAR 3 + Benchmark + CL)\": NaN, \"DPs to be disclosed in case of phased-in [Appendix C - ESRS 1]\\\\nUndertaking less than 750 employees\": NaN, \"Appendix C - ESRS 1\\\\n[DPs subject to phased-in]\\\\n\": NaN}')]\n",
      "\n",
      "\n",
      "Answer: The five main datapoints for ESRS 2 include: 1) List of ESRS sectors that are significant for undertaking, 2) Basis for preparation of sustainability statement, 3) Description of resulting level of accuracy of metrics that include value chain data estimated using indirect sources, 4) Description of planned actions to improve accuracy in future of metrics that include value chain data estimated using indirect sources, and 5) Conditional datapoints related to phased-in disclosures for undertakings with less than 750 employees.\n"
     ]
    }
   ],
   "source": [
    "result = graph.invoke({\"question\": \"What are the 5 main datapoints for ESRS 2?\"})\n",
    "\n",
    "print(f'Context: {result[\"context\"]}\\n\\n')\n",
    "print(f'Answer: {result[\"answer\"]}')"
   ]
  },
  {
   "cell_type": "code",
   "execution_count": null,
   "metadata": {},
   "outputs": [],
   "source": []
  }
 ],
 "metadata": {
  "kernelspec": {
   "display_name": "base",
   "language": "python",
   "name": "python3"
  },
  "language_info": {
   "codemirror_mode": {
    "name": "ipython",
    "version": 3
   },
   "file_extension": ".py",
   "mimetype": "text/x-python",
   "name": "python",
   "nbconvert_exporter": "python",
   "pygments_lexer": "ipython3",
   "version": "3.11.7"
  }
 },
 "nbformat": 4,
 "nbformat_minor": 2
}
