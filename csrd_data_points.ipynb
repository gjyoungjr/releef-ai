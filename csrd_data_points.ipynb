{
 "cells": [
  {
   "cell_type": "markdown",
   "metadata": {},
   "source": [
    "## CSRD Data Points \n",
    "- Processing CSRD datapoints into a list of dictionaries "
   ]
  },
  {
   "cell_type": "code",
   "execution_count": 1,
   "metadata": {},
   "outputs": [
    {
     "name": "stdout",
     "output_type": "stream",
     "text": [
      "Requirement already satisfied: pandas in /opt/anaconda3/lib/python3.11/site-packages (2.1.4)\n",
      "Requirement already satisfied: numpy<2,>=1.23.2 in /opt/anaconda3/lib/python3.11/site-packages (from pandas) (1.26.4)\n",
      "Requirement already satisfied: python-dateutil>=2.8.2 in /opt/anaconda3/lib/python3.11/site-packages (from pandas) (2.8.2)\n",
      "Requirement already satisfied: pytz>=2020.1 in /opt/anaconda3/lib/python3.11/site-packages (from pandas) (2023.3.post1)\n",
      "Requirement already satisfied: tzdata>=2022.1 in /opt/anaconda3/lib/python3.11/site-packages (from pandas) (2023.3)\n",
      "Requirement already satisfied: six>=1.5 in /opt/anaconda3/lib/python3.11/site-packages (from python-dateutil>=2.8.2->pandas) (1.16.0)\n",
      "Note: you may need to restart the kernel to use updated packages.\n"
     ]
    }
   ],
   "source": [
    "%pip install pandas "
   ]
  },
  {
   "cell_type": "code",
   "execution_count": 2,
   "metadata": {},
   "outputs": [],
   "source": [
    "import pandas as pd "
   ]
  },
  {
   "cell_type": "code",
   "execution_count": 9,
   "metadata": {},
   "outputs": [],
   "source": [
    "df_sheets = pd.read_excel('data/esrs_data.xlsx', sheet_name=None)"
   ]
  },
  {
   "cell_type": "code",
   "execution_count": 16,
   "metadata": {},
   "outputs": [
    {
     "data": {
      "text/html": [
       "<div>\n",
       "<style scoped>\n",
       "    .dataframe tbody tr th:only-of-type {\n",
       "        vertical-align: middle;\n",
       "    }\n",
       "\n",
       "    .dataframe tbody tr th {\n",
       "        vertical-align: top;\n",
       "    }\n",
       "\n",
       "    .dataframe thead th {\n",
       "        text-align: right;\n",
       "    }\n",
       "</style>\n",
       "<table border=\"1\" class=\"dataframe\">\n",
       "  <thead>\n",
       "    <tr style=\"text-align: right;\">\n",
       "      <th></th>\n",
       "      <th>INSTRUCTIONS\\n1)The \"shall disclose\" DPs reported in ESRS 2 are to be disclosed irrespective of the outcome of its materiality assessment [ESRS 1 par. 29].\\n2) Undertakings or groups not exceeding on their balance sheet dates the average number of 750 employees during the financial year (on a consolidated basis where applicable) may omit the information required by ESRS E4, ESRS S1, ESRS S2, ESRS S3 or ESRS S4 in accordance with Appendix C of ESRS 1. In this case, the undertaking shall nevertheless disclose DPs reported under par. 17-BP2 of ESRS 2 if one or more of these topics have been assessed to be material [see Column K].\\n3) Column L identifies DPs related to SBM-1 and SBM-3 subject to phased in according to Appendix C of ESRS 1.</th>\n",
       "      <th>Unnamed: 1</th>\n",
       "      <th>Unnamed: 2</th>\n",
       "      <th>Unnamed: 3</th>\n",
       "      <th>Unnamed: 4</th>\n",
       "      <th>Unnamed: 5</th>\n",
       "      <th>Unnamed: 6</th>\n",
       "      <th>Unnamed: 7</th>\n",
       "      <th>Unnamed: 8</th>\n",
       "      <th>Unnamed: 9</th>\n",
       "      <th>Unnamed: 10</th>\n",
       "      <th>Unnamed: 11</th>\n",
       "    </tr>\n",
       "  </thead>\n",
       "  <tbody>\n",
       "    <tr>\n",
       "      <th>1</th>\n",
       "      <td>BP-1_01</td>\n",
       "      <td>ESRS 2</td>\n",
       "      <td>BP-1</td>\n",
       "      <td>5 a</td>\n",
       "      <td>NaN</td>\n",
       "      <td>Basis for preparation of sustainability statement</td>\n",
       "      <td>semi-narrative</td>\n",
       "      <td>NaN</td>\n",
       "      <td>NaN</td>\n",
       "      <td>NaN</td>\n",
       "      <td>NaN</td>\n",
       "      <td>NaN</td>\n",
       "    </tr>\n",
       "    <tr>\n",
       "      <th>2</th>\n",
       "      <td>BP-1_02</td>\n",
       "      <td>ESRS 2</td>\n",
       "      <td>BP-1</td>\n",
       "      <td>5 b i</td>\n",
       "      <td>NaN</td>\n",
       "      <td>Scope of consolidation of consolidated sustain...</td>\n",
       "      <td>narrative</td>\n",
       "      <td>Conditional</td>\n",
       "      <td>NaN</td>\n",
       "      <td>NaN</td>\n",
       "      <td>NaN</td>\n",
       "      <td>NaN</td>\n",
       "    </tr>\n",
       "    <tr>\n",
       "      <th>3</th>\n",
       "      <td>BP-1_03</td>\n",
       "      <td>ESRS 2</td>\n",
       "      <td>BP-1</td>\n",
       "      <td>5 b ii</td>\n",
       "      <td>NaN</td>\n",
       "      <td>Indication of subsidiary undertakings included...</td>\n",
       "      <td>narrative</td>\n",
       "      <td>Conditional</td>\n",
       "      <td>NaN</td>\n",
       "      <td>NaN</td>\n",
       "      <td>NaN</td>\n",
       "      <td>NaN</td>\n",
       "    </tr>\n",
       "    <tr>\n",
       "      <th>4</th>\n",
       "      <td>BP-1_04</td>\n",
       "      <td>ESRS 2</td>\n",
       "      <td>BP-1</td>\n",
       "      <td>5 c</td>\n",
       "      <td>AR 1</td>\n",
       "      <td>Disclosure of extent to which sustainability s...</td>\n",
       "      <td>narrative</td>\n",
       "      <td>NaN</td>\n",
       "      <td>NaN</td>\n",
       "      <td>NaN</td>\n",
       "      <td>NaN</td>\n",
       "      <td>NaN</td>\n",
       "    </tr>\n",
       "    <tr>\n",
       "      <th>5</th>\n",
       "      <td>BP-1_05</td>\n",
       "      <td>ESRS 2</td>\n",
       "      <td>BP-1</td>\n",
       "      <td>5 d</td>\n",
       "      <td>NaN</td>\n",
       "      <td>Option to omit specific piece of information c...</td>\n",
       "      <td>semi-narrative</td>\n",
       "      <td>NaN</td>\n",
       "      <td>NaN</td>\n",
       "      <td>NaN</td>\n",
       "      <td>NaN</td>\n",
       "      <td>NaN</td>\n",
       "    </tr>\n",
       "  </tbody>\n",
       "</table>\n",
       "</div>"
      ],
      "text/plain": [
       "  INSTRUCTIONS\\n1)The \"shall disclose\" DPs reported in ESRS 2 are to be disclosed irrespective of the outcome of its materiality assessment [ESRS 1 par. 29].\\n2) Undertakings or groups not exceeding on their balance sheet dates the average number of 750 employees during the financial year (on a consolidated basis where applicable) may omit the information required by ESRS E4, ESRS S1, ESRS S2, ESRS S3 or ESRS S4 in accordance with Appendix C of ESRS 1. In this case, the undertaking shall nevertheless disclose DPs reported under par. 17-BP2 of ESRS 2 if one or more of these topics have been assessed to be material [see Column K].\\n3) Column L identifies DPs related to SBM-1 and SBM-3 subject to phased in according to Appendix C of ESRS 1.  \\\n",
       "1                                            BP-1_01                                                                                                                                                                                                                                                                                                                                                                                                                                                                                                                                                                                                                                                                                                                          \n",
       "2                                            BP-1_02                                                                                                                                                                                                                                                                                                                                                                                                                                                                                                                                                                                                                                                                                                                          \n",
       "3                                            BP-1_03                                                                                                                                                                                                                                                                                                                                                                                                                                                                                                                                                                                                                                                                                                                          \n",
       "4                                            BP-1_04                                                                                                                                                                                                                                                                                                                                                                                                                                                                                                                                                                                                                                                                                                                          \n",
       "5                                            BP-1_05                                                                                                                                                                                                                                                                                                                                                                                                                                                                                                                                                                                                                                                                                                                          \n",
       "\n",
       "  Unnamed: 1 Unnamed: 2 Unnamed: 3 Unnamed: 4  \\\n",
       "1     ESRS 2       BP-1        5 a        NaN   \n",
       "2     ESRS 2       BP-1      5 b i        NaN   \n",
       "3     ESRS 2       BP-1     5 b ii        NaN   \n",
       "4     ESRS 2       BP-1        5 c       AR 1   \n",
       "5     ESRS 2       BP-1        5 d        NaN   \n",
       "\n",
       "                                          Unnamed: 5      Unnamed: 6  \\\n",
       "1  Basis for preparation of sustainability statement  semi-narrative   \n",
       "2  Scope of consolidation of consolidated sustain...       narrative   \n",
       "3  Indication of subsidiary undertakings included...       narrative   \n",
       "4  Disclosure of extent to which sustainability s...       narrative   \n",
       "5  Option to omit specific piece of information c...  semi-narrative   \n",
       "\n",
       "    Unnamed: 7 Unnamed: 8 Unnamed: 9 Unnamed: 10 Unnamed: 11  \n",
       "1          NaN        NaN        NaN         NaN         NaN  \n",
       "2  Conditional        NaN        NaN         NaN         NaN  \n",
       "3  Conditional        NaN        NaN         NaN         NaN  \n",
       "4          NaN        NaN        NaN         NaN         NaN  \n",
       "5          NaN        NaN        NaN         NaN         NaN  "
      ]
     },
     "execution_count": 16,
     "metadata": {},
     "output_type": "execute_result"
    }
   ],
   "source": [
    "sheet = df_sheets['ESRS 2']\n",
    "sheet = sheet.drop(sheet.index[0], axis=0)\n",
    "sheet.head()"
   ]
  },
  {
   "cell_type": "code",
   "execution_count": null,
   "metadata": {},
   "outputs": [],
   "source": []
  }
 ],
 "metadata": {
  "kernelspec": {
   "display_name": "base",
   "language": "python",
   "name": "python3"
  },
  "language_info": {
   "codemirror_mode": {
    "name": "ipython",
    "version": 3
   },
   "file_extension": ".py",
   "mimetype": "text/x-python",
   "name": "python",
   "nbconvert_exporter": "python",
   "pygments_lexer": "ipython3",
   "version": "3.11.7"
  }
 },
 "nbformat": 4,
 "nbformat_minor": 2
}
