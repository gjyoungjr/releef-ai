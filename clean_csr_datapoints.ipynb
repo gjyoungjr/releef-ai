{
 "cells": [
  {
   "cell_type": "markdown",
   "metadata": {},
   "source": [
    "# Data Cleaning and EDA"
   ]
  },
  {
   "cell_type": "code",
   "execution_count": 1,
   "metadata": {},
   "outputs": [
    {
     "name": "stdout",
     "output_type": "stream",
     "text": [
      "Requirement already satisfied: boto3 in /opt/anaconda3/lib/python3.11/site-packages (1.34.139)\n",
      "Requirement already satisfied: botocore<1.35.0,>=1.34.139 in /opt/anaconda3/lib/python3.11/site-packages (from boto3) (1.34.162)\n",
      "Requirement already satisfied: jmespath<2.0.0,>=0.7.1 in /opt/anaconda3/lib/python3.11/site-packages (from boto3) (1.0.1)\n",
      "Requirement already satisfied: s3transfer<0.11.0,>=0.10.0 in /opt/anaconda3/lib/python3.11/site-packages (from boto3) (0.10.2)\n",
      "Requirement already satisfied: python-dateutil<3.0.0,>=2.1 in /opt/anaconda3/lib/python3.11/site-packages (from botocore<1.35.0,>=1.34.139->boto3) (2.8.2)\n",
      "Requirement already satisfied: urllib3!=2.2.0,<3,>=1.25.4 in /opt/anaconda3/lib/python3.11/site-packages (from botocore<1.35.0,>=1.34.139->boto3) (2.0.7)\n",
      "Requirement already satisfied: six>=1.5 in /opt/anaconda3/lib/python3.11/site-packages (from python-dateutil<3.0.0,>=2.1->botocore<1.35.0,>=1.34.139->boto3) (1.16.0)\n",
      "Note: you may need to restart the kernel to use updated packages.\n"
     ]
    }
   ],
   "source": [
    "%pip install boto3"
   ]
  },
  {
   "cell_type": "code",
   "execution_count": 2,
   "metadata": {},
   "outputs": [],
   "source": [
    "import json\n",
    "import boto3\n",
    "import os \n",
    "from dotenv import load_dotenv "
   ]
  },
  {
   "cell_type": "code",
   "execution_count": 3,
   "metadata": {},
   "outputs": [
    {
     "data": {
      "text/plain": [
       "True"
      ]
     },
     "execution_count": 3,
     "metadata": {},
     "output_type": "execute_result"
    }
   ],
   "source": [
    "load_dotenv()"
   ]
  },
  {
   "cell_type": "code",
   "execution_count": 4,
   "metadata": {},
   "outputs": [],
   "source": [
    "file_path = \"data/csrd_datapoints.json\"\n",
    "data = None \n",
    "\n",
    "with open(file_path, \"r\", encoding=\"utf-8\") as json_file:\n",
    "    data = json.load(json_file)"
   ]
  },
  {
   "cell_type": "code",
   "execution_count": 5,
   "metadata": {},
   "outputs": [],
   "source": [
    "CSRD_STANDARDS = {\n",
    "    \"ESRS_2\": \"General Disclosures\",\n",
    "    \"E1\": \"Climate Change\",\n",
    "    \"E2\": \"Pollution\",\n",
    "    \"E3\": \"Water and Marine Resources\",\n",
    "    \"E4\": \"Biodiversity and Ecosystems\",\n",
    "    \"E5\": \"Resources and Circular Economy\",\n",
    "    \"S1\": \"Own Workforce\",\n",
    "    \"S2\": \"Workers in the Value Chain\",\n",
    "    \"S3\": \"Affected Communities\",\n",
    "    \"S4\": \"Customers and End-Users\",\n",
    "    \"G1\": \"Business Conduct\",\n",
    "    \n",
    "}"
   ]
  },
  {
   "cell_type": "code",
   "execution_count": 6,
   "metadata": {},
   "outputs": [],
   "source": [
    "csrd_datapoints = []\n",
    "\n",
    "def clean_csrd_datapoints(data):\n",
    "    for item in data:\n",
    "        for _item in data[item]:\n",
    "            esrs = str(_item[\"ESRS\"]).replace(\" \", \"_\")\n",
    "            csrd_datapoints.append({\n",
    "                \"PK\": f\"{esrs}#{_item['ID']}\",\n",
    "                \"SK\": f\"{esrs}#{_item['ID']}\",\n",
    "                \"standard\": CSRD_STANDARDS.get(esrs),\n",
    "                **_item,\n",
    "            })\n",
    "    return csrd_datapoints "
   ]
  },
  {
   "cell_type": "code",
   "execution_count": 7,
   "metadata": {},
   "outputs": [
    {
     "name": "stdout",
     "output_type": "stream",
     "text": [
      "{'PK': 'ESRS_2#BP-1_01', 'SK': 'ESRS_2#BP-1_01', 'standard': 'General Disclosures', 'ID': 'BP-1_01', 'ESRS': 'ESRS 2', 'DR': 'BP-1', 'Paragraph': '5 a', 'Related AR': nan, 'Name': 'Basis for preparation of sustainability statement', 'Data Type': 'semi-narrative', 'Conditional or alternative DP': nan, 'May \\n[V]': nan, 'Appendix B - ESRS 2 \\n(SFDR + PILLAR 3 + Benchmark + CL)': nan, 'DPs to be disclosed in case of phased-in [Appendix C - ESRS 1]\\nUndertaking less than 750 employees': nan, 'Appendix C - ESRS 1\\n[DPs subject to phased-in]\\n': nan}\n"
     ]
    }
   ],
   "source": [
    "data = clean_csrd_datapoints(data)\n",
    "\n",
    "print(data[0])"
   ]
  },
  {
   "cell_type": "markdown",
   "metadata": {},
   "source": [
    "## Store CSRD DataPoints to DDB "
   ]
  },
  {
   "cell_type": "code",
   "execution_count": 18,
   "metadata": {},
   "outputs": [],
   "source": [
    "dynamodb = boto3.resource(\n",
    "    \"dynamodb\",\n",
    "    aws_access_key_id=os.environ.get(\"AWS_ACCESS_KEY\"),\n",
    "    aws_secret_access_key=os.environ.get(\"AWS_SECRET_ACCESS_KEY\"),\n",
    "    region_name=\"us-east-2\"\n",
    ")"
   ]
  },
  {
   "cell_type": "code",
   "execution_count": 19,
   "metadata": {},
   "outputs": [],
   "source": [
    "TABLE_NAME = \"CoreTable-CoreTable97EB8292-12YM841LJM4YC\"\n",
    "table = dynamodb.Table(TABLE_NAME)"
   ]
  },
  {
   "cell_type": "code",
   "execution_count": 20,
   "metadata": {},
   "outputs": [
    {
     "name": "stdout",
     "output_type": "stream",
     "text": [
      "Data inserted successfully: {'ResponseMetadata': {'RequestId': 'P3VGC2P0IPR7F54JFQNL3HE4K3VV4KQNSO5AEMVJF66Q9ASUAAJG', 'HTTPStatusCode': 200, 'HTTPHeaders': {'server': 'Server', 'date': 'Sat, 15 Feb 2025 02:28:14 GMT', 'content-type': 'application/x-amz-json-1.0', 'content-length': '2', 'connection': 'keep-alive', 'x-amzn-requestid': 'P3VGC2P0IPR7F54JFQNL3HE4K3VV4KQNSO5AEMVJF66Q9ASUAAJG', 'x-amz-crc32': '2745614147'}, 'RetryAttempts': 0}}\n"
     ]
    }
   ],
   "source": [
    "item = {\n",
    "    \"PK\": \"test#212\",\n",
    "    \"SK\": \"test#212\",\n",
    "    \"id\": \"123\",  # Primary Key\n",
    "    \"name\": \"John Doe\",\n",
    "    \"email\": \"john.doe@example.com\",\n",
    "    \"age\": 30\n",
    "}\n",
    "\n",
    "response = table.put_item(Item=item)\n",
    "print(\"Data inserted successfully:\", response)\n"
   ]
  },
  {
   "cell_type": "code",
   "execution_count": 21,
   "metadata": {},
   "outputs": [],
   "source": [
    "def batch_write(items):\n",
    "    with table.batch_writer() as batch:\n",
    "        for item in items:\n",
    "            batch.put_item(Item=item)"
   ]
  },
  {
   "cell_type": "code",
   "execution_count": 22,
   "metadata": {},
   "outputs": [
    {
     "ename": "TypeError",
     "evalue": "Float types are not supported. Use Decimal types instead.",
     "output_type": "error",
     "traceback": [
      "\u001b[0;31m---------------------------------------------------------------------------\u001b[0m",
      "\u001b[0;31mTypeError\u001b[0m                                 Traceback (most recent call last)",
      "Cell \u001b[0;32mIn[22], line 1\u001b[0m\n\u001b[0;32m----> 1\u001b[0m batch_write(data)\n",
      "Cell \u001b[0;32mIn[21], line 4\u001b[0m, in \u001b[0;36mbatch_write\u001b[0;34m(items)\u001b[0m\n\u001b[1;32m      2\u001b[0m \u001b[38;5;28;01mwith\u001b[39;00m table\u001b[38;5;241m.\u001b[39mbatch_writer() \u001b[38;5;28;01mas\u001b[39;00m batch:\n\u001b[1;32m      3\u001b[0m     \u001b[38;5;28;01mfor\u001b[39;00m item \u001b[38;5;129;01min\u001b[39;00m items:\n\u001b[0;32m----> 4\u001b[0m         batch\u001b[38;5;241m.\u001b[39mput_item(Item\u001b[38;5;241m=\u001b[39mitem)\n",
      "File \u001b[0;32m/opt/anaconda3/lib/python3.11/site-packages/boto3/dynamodb/table.py:103\u001b[0m, in \u001b[0;36mBatchWriter.put_item\u001b[0;34m(self, Item)\u001b[0m\n\u001b[1;32m    102\u001b[0m \u001b[38;5;28;01mdef\u001b[39;00m \u001b[38;5;21mput_item\u001b[39m(\u001b[38;5;28mself\u001b[39m, Item):\n\u001b[0;32m--> 103\u001b[0m     \u001b[38;5;28mself\u001b[39m\u001b[38;5;241m.\u001b[39m_add_request_and_process({\u001b[38;5;124m'\u001b[39m\u001b[38;5;124mPutRequest\u001b[39m\u001b[38;5;124m'\u001b[39m: {\u001b[38;5;124m'\u001b[39m\u001b[38;5;124mItem\u001b[39m\u001b[38;5;124m'\u001b[39m: Item}})\n",
      "File \u001b[0;32m/opt/anaconda3/lib/python3.11/site-packages/boto3/dynamodb/table.py:112\u001b[0m, in \u001b[0;36mBatchWriter._add_request_and_process\u001b[0;34m(self, request)\u001b[0m\n\u001b[1;32m    110\u001b[0m     \u001b[38;5;28mself\u001b[39m\u001b[38;5;241m.\u001b[39m_remove_dup_pkeys_request_if_any(request)\n\u001b[1;32m    111\u001b[0m \u001b[38;5;28mself\u001b[39m\u001b[38;5;241m.\u001b[39m_items_buffer\u001b[38;5;241m.\u001b[39mappend(request)\n\u001b[0;32m--> 112\u001b[0m \u001b[38;5;28mself\u001b[39m\u001b[38;5;241m.\u001b[39m_flush_if_needed()\n",
      "File \u001b[0;32m/opt/anaconda3/lib/python3.11/site-packages/boto3/dynamodb/table.py:139\u001b[0m, in \u001b[0;36mBatchWriter._flush_if_needed\u001b[0;34m(self)\u001b[0m\n\u001b[1;32m    137\u001b[0m \u001b[38;5;28;01mdef\u001b[39;00m \u001b[38;5;21m_flush_if_needed\u001b[39m(\u001b[38;5;28mself\u001b[39m):\n\u001b[1;32m    138\u001b[0m     \u001b[38;5;28;01mif\u001b[39;00m \u001b[38;5;28mlen\u001b[39m(\u001b[38;5;28mself\u001b[39m\u001b[38;5;241m.\u001b[39m_items_buffer) \u001b[38;5;241m>\u001b[39m\u001b[38;5;241m=\u001b[39m \u001b[38;5;28mself\u001b[39m\u001b[38;5;241m.\u001b[39m_flush_amount:\n\u001b[0;32m--> 139\u001b[0m         \u001b[38;5;28mself\u001b[39m\u001b[38;5;241m.\u001b[39m_flush()\n",
      "File \u001b[0;32m/opt/anaconda3/lib/python3.11/site-packages/boto3/dynamodb/table.py:144\u001b[0m, in \u001b[0;36mBatchWriter._flush\u001b[0;34m(self)\u001b[0m\n\u001b[1;32m    142\u001b[0m items_to_send \u001b[38;5;241m=\u001b[39m \u001b[38;5;28mself\u001b[39m\u001b[38;5;241m.\u001b[39m_items_buffer[: \u001b[38;5;28mself\u001b[39m\u001b[38;5;241m.\u001b[39m_flush_amount]\n\u001b[1;32m    143\u001b[0m \u001b[38;5;28mself\u001b[39m\u001b[38;5;241m.\u001b[39m_items_buffer \u001b[38;5;241m=\u001b[39m \u001b[38;5;28mself\u001b[39m\u001b[38;5;241m.\u001b[39m_items_buffer[\u001b[38;5;28mself\u001b[39m\u001b[38;5;241m.\u001b[39m_flush_amount :]\n\u001b[0;32m--> 144\u001b[0m response \u001b[38;5;241m=\u001b[39m \u001b[38;5;28mself\u001b[39m\u001b[38;5;241m.\u001b[39m_client\u001b[38;5;241m.\u001b[39mbatch_write_item(\n\u001b[1;32m    145\u001b[0m     RequestItems\u001b[38;5;241m=\u001b[39m{\u001b[38;5;28mself\u001b[39m\u001b[38;5;241m.\u001b[39m_table_name: items_to_send}\n\u001b[1;32m    146\u001b[0m )\n\u001b[1;32m    147\u001b[0m unprocessed_items \u001b[38;5;241m=\u001b[39m response[\u001b[38;5;124m'\u001b[39m\u001b[38;5;124mUnprocessedItems\u001b[39m\u001b[38;5;124m'\u001b[39m]\n\u001b[1;32m    148\u001b[0m \u001b[38;5;28;01mif\u001b[39;00m \u001b[38;5;129;01mnot\u001b[39;00m unprocessed_items:\n",
      "File \u001b[0;32m/opt/anaconda3/lib/python3.11/site-packages/botocore/client.py:565\u001b[0m, in \u001b[0;36mClientCreator._create_api_method.<locals>._api_call\u001b[0;34m(self, *args, **kwargs)\u001b[0m\n\u001b[1;32m    561\u001b[0m     \u001b[38;5;28;01mraise\u001b[39;00m \u001b[38;5;167;01mTypeError\u001b[39;00m(\n\u001b[1;32m    562\u001b[0m         \u001b[38;5;124mf\u001b[39m\u001b[38;5;124m\"\u001b[39m\u001b[38;5;132;01m{\u001b[39;00mpy_operation_name\u001b[38;5;132;01m}\u001b[39;00m\u001b[38;5;124m() only accepts keyword arguments.\u001b[39m\u001b[38;5;124m\"\u001b[39m\n\u001b[1;32m    563\u001b[0m     )\n\u001b[1;32m    564\u001b[0m \u001b[38;5;66;03m# The \"self\" in this scope is referring to the BaseClient.\u001b[39;00m\n\u001b[0;32m--> 565\u001b[0m \u001b[38;5;28;01mreturn\u001b[39;00m \u001b[38;5;28mself\u001b[39m\u001b[38;5;241m.\u001b[39m_make_api_call(operation_name, kwargs)\n",
      "File \u001b[0;32m/opt/anaconda3/lib/python3.11/site-packages/botocore/client.py:958\u001b[0m, in \u001b[0;36mBaseClient._make_api_call\u001b[0;34m(self, operation_name, api_params)\u001b[0m\n\u001b[1;32m    949\u001b[0m     logger\u001b[38;5;241m.\u001b[39mdebug(\n\u001b[1;32m    950\u001b[0m         \u001b[38;5;124m'\u001b[39m\u001b[38;5;124mWarning: \u001b[39m\u001b[38;5;132;01m%s\u001b[39;00m\u001b[38;5;124m.\u001b[39m\u001b[38;5;132;01m%s\u001b[39;00m\u001b[38;5;124m() is deprecated\u001b[39m\u001b[38;5;124m'\u001b[39m, service_name, operation_name\n\u001b[1;32m    951\u001b[0m     )\n\u001b[1;32m    952\u001b[0m request_context \u001b[38;5;241m=\u001b[39m {\n\u001b[1;32m    953\u001b[0m     \u001b[38;5;124m'\u001b[39m\u001b[38;5;124mclient_region\u001b[39m\u001b[38;5;124m'\u001b[39m: \u001b[38;5;28mself\u001b[39m\u001b[38;5;241m.\u001b[39mmeta\u001b[38;5;241m.\u001b[39mregion_name,\n\u001b[1;32m    954\u001b[0m     \u001b[38;5;124m'\u001b[39m\u001b[38;5;124mclient_config\u001b[39m\u001b[38;5;124m'\u001b[39m: \u001b[38;5;28mself\u001b[39m\u001b[38;5;241m.\u001b[39mmeta\u001b[38;5;241m.\u001b[39mconfig,\n\u001b[1;32m    955\u001b[0m     \u001b[38;5;124m'\u001b[39m\u001b[38;5;124mhas_streaming_input\u001b[39m\u001b[38;5;124m'\u001b[39m: operation_model\u001b[38;5;241m.\u001b[39mhas_streaming_input,\n\u001b[1;32m    956\u001b[0m     \u001b[38;5;124m'\u001b[39m\u001b[38;5;124mauth_type\u001b[39m\u001b[38;5;124m'\u001b[39m: operation_model\u001b[38;5;241m.\u001b[39mauth_type,\n\u001b[1;32m    957\u001b[0m }\n\u001b[0;32m--> 958\u001b[0m api_params \u001b[38;5;241m=\u001b[39m \u001b[38;5;28mself\u001b[39m\u001b[38;5;241m.\u001b[39m_emit_api_params(\n\u001b[1;32m    959\u001b[0m     api_params\u001b[38;5;241m=\u001b[39mapi_params,\n\u001b[1;32m    960\u001b[0m     operation_model\u001b[38;5;241m=\u001b[39moperation_model,\n\u001b[1;32m    961\u001b[0m     context\u001b[38;5;241m=\u001b[39mrequest_context,\n\u001b[1;32m    962\u001b[0m )\n\u001b[1;32m    963\u001b[0m (\n\u001b[1;32m    964\u001b[0m     endpoint_url,\n\u001b[1;32m    965\u001b[0m     additional_headers,\n\u001b[0;32m   (...)\u001b[0m\n\u001b[1;32m    968\u001b[0m     operation_model, api_params, request_context\n\u001b[1;32m    969\u001b[0m )\n\u001b[1;32m    970\u001b[0m \u001b[38;5;28;01mif\u001b[39;00m properties:\n\u001b[1;32m    971\u001b[0m     \u001b[38;5;66;03m# Pass arbitrary endpoint info with the Request\u001b[39;00m\n\u001b[1;32m    972\u001b[0m     \u001b[38;5;66;03m# for use during construction.\u001b[39;00m\n",
      "File \u001b[0;32m/opt/anaconda3/lib/python3.11/site-packages/botocore/client.py:1077\u001b[0m, in \u001b[0;36mBaseClient._emit_api_params\u001b[0;34m(self, api_params, operation_model, context)\u001b[0m\n\u001b[1;32m   1069\u001b[0m responses \u001b[38;5;241m=\u001b[39m \u001b[38;5;28mself\u001b[39m\u001b[38;5;241m.\u001b[39mmeta\u001b[38;5;241m.\u001b[39mevents\u001b[38;5;241m.\u001b[39memit(\n\u001b[1;32m   1070\u001b[0m     \u001b[38;5;124mf\u001b[39m\u001b[38;5;124m'\u001b[39m\u001b[38;5;124mprovide-client-params.\u001b[39m\u001b[38;5;132;01m{\u001b[39;00mservice_id\u001b[38;5;132;01m}\u001b[39;00m\u001b[38;5;124m.\u001b[39m\u001b[38;5;132;01m{\u001b[39;00moperation_name\u001b[38;5;132;01m}\u001b[39;00m\u001b[38;5;124m'\u001b[39m,\n\u001b[1;32m   1071\u001b[0m     params\u001b[38;5;241m=\u001b[39mapi_params,\n\u001b[1;32m   1072\u001b[0m     model\u001b[38;5;241m=\u001b[39moperation_model,\n\u001b[1;32m   1073\u001b[0m     context\u001b[38;5;241m=\u001b[39mcontext,\n\u001b[1;32m   1074\u001b[0m )\n\u001b[1;32m   1075\u001b[0m api_params \u001b[38;5;241m=\u001b[39m first_non_none_response(responses, default\u001b[38;5;241m=\u001b[39mapi_params)\n\u001b[0;32m-> 1077\u001b[0m \u001b[38;5;28mself\u001b[39m\u001b[38;5;241m.\u001b[39mmeta\u001b[38;5;241m.\u001b[39mevents\u001b[38;5;241m.\u001b[39memit(\n\u001b[1;32m   1078\u001b[0m     \u001b[38;5;124mf\u001b[39m\u001b[38;5;124m'\u001b[39m\u001b[38;5;124mbefore-parameter-build.\u001b[39m\u001b[38;5;132;01m{\u001b[39;00mservice_id\u001b[38;5;132;01m}\u001b[39;00m\u001b[38;5;124m.\u001b[39m\u001b[38;5;132;01m{\u001b[39;00moperation_name\u001b[38;5;132;01m}\u001b[39;00m\u001b[38;5;124m'\u001b[39m,\n\u001b[1;32m   1079\u001b[0m     params\u001b[38;5;241m=\u001b[39mapi_params,\n\u001b[1;32m   1080\u001b[0m     model\u001b[38;5;241m=\u001b[39moperation_model,\n\u001b[1;32m   1081\u001b[0m     context\u001b[38;5;241m=\u001b[39mcontext,\n\u001b[1;32m   1082\u001b[0m )\n\u001b[1;32m   1083\u001b[0m \u001b[38;5;28;01mreturn\u001b[39;00m api_params\n",
      "File \u001b[0;32m/opt/anaconda3/lib/python3.11/site-packages/botocore/hooks.py:412\u001b[0m, in \u001b[0;36mEventAliaser.emit\u001b[0;34m(self, event_name, **kwargs)\u001b[0m\n\u001b[1;32m    410\u001b[0m \u001b[38;5;28;01mdef\u001b[39;00m \u001b[38;5;21memit\u001b[39m(\u001b[38;5;28mself\u001b[39m, event_name, \u001b[38;5;241m*\u001b[39m\u001b[38;5;241m*\u001b[39mkwargs):\n\u001b[1;32m    411\u001b[0m     aliased_event_name \u001b[38;5;241m=\u001b[39m \u001b[38;5;28mself\u001b[39m\u001b[38;5;241m.\u001b[39m_alias_event_name(event_name)\n\u001b[0;32m--> 412\u001b[0m     \u001b[38;5;28;01mreturn\u001b[39;00m \u001b[38;5;28mself\u001b[39m\u001b[38;5;241m.\u001b[39m_emitter\u001b[38;5;241m.\u001b[39memit(aliased_event_name, \u001b[38;5;241m*\u001b[39m\u001b[38;5;241m*\u001b[39mkwargs)\n",
      "File \u001b[0;32m/opt/anaconda3/lib/python3.11/site-packages/botocore/hooks.py:256\u001b[0m, in \u001b[0;36mHierarchicalEmitter.emit\u001b[0;34m(self, event_name, **kwargs)\u001b[0m\n\u001b[1;32m    245\u001b[0m \u001b[38;5;28;01mdef\u001b[39;00m \u001b[38;5;21memit\u001b[39m(\u001b[38;5;28mself\u001b[39m, event_name, \u001b[38;5;241m*\u001b[39m\u001b[38;5;241m*\u001b[39mkwargs):\n\u001b[1;32m    246\u001b[0m \u001b[38;5;250m    \u001b[39m\u001b[38;5;124;03m\"\"\"\u001b[39;00m\n\u001b[1;32m    247\u001b[0m \u001b[38;5;124;03m    Emit an event by name with arguments passed as keyword args.\u001b[39;00m\n\u001b[1;32m    248\u001b[0m \n\u001b[0;32m   (...)\u001b[0m\n\u001b[1;32m    254\u001b[0m \u001b[38;5;124;03m             handlers.\u001b[39;00m\n\u001b[1;32m    255\u001b[0m \u001b[38;5;124;03m    \"\"\"\u001b[39;00m\n\u001b[0;32m--> 256\u001b[0m     \u001b[38;5;28;01mreturn\u001b[39;00m \u001b[38;5;28mself\u001b[39m\u001b[38;5;241m.\u001b[39m_emit(event_name, kwargs)\n",
      "File \u001b[0;32m/opt/anaconda3/lib/python3.11/site-packages/botocore/hooks.py:239\u001b[0m, in \u001b[0;36mHierarchicalEmitter._emit\u001b[0;34m(self, event_name, kwargs, stop_on_response)\u001b[0m\n\u001b[1;32m    237\u001b[0m \u001b[38;5;28;01mfor\u001b[39;00m handler \u001b[38;5;129;01min\u001b[39;00m handlers_to_call:\n\u001b[1;32m    238\u001b[0m     logger\u001b[38;5;241m.\u001b[39mdebug(\u001b[38;5;124m'\u001b[39m\u001b[38;5;124mEvent \u001b[39m\u001b[38;5;132;01m%s\u001b[39;00m\u001b[38;5;124m: calling handler \u001b[39m\u001b[38;5;132;01m%s\u001b[39;00m\u001b[38;5;124m'\u001b[39m, event_name, handler)\n\u001b[0;32m--> 239\u001b[0m     response \u001b[38;5;241m=\u001b[39m handler(\u001b[38;5;241m*\u001b[39m\u001b[38;5;241m*\u001b[39mkwargs)\n\u001b[1;32m    240\u001b[0m     responses\u001b[38;5;241m.\u001b[39mappend((handler, response))\n\u001b[1;32m    241\u001b[0m     \u001b[38;5;28;01mif\u001b[39;00m stop_on_response \u001b[38;5;129;01mand\u001b[39;00m response \u001b[38;5;129;01mis\u001b[39;00m \u001b[38;5;129;01mnot\u001b[39;00m \u001b[38;5;28;01mNone\u001b[39;00m:\n",
      "File \u001b[0;32m/opt/anaconda3/lib/python3.11/site-packages/boto3/dynamodb/transform.py:217\u001b[0m, in \u001b[0;36mTransformationInjector.inject_attribute_value_input\u001b[0;34m(self, params, model, **kwargs)\u001b[0m\n\u001b[1;32m    215\u001b[0m \u001b[38;5;28;01mdef\u001b[39;00m \u001b[38;5;21minject_attribute_value_input\u001b[39m(\u001b[38;5;28mself\u001b[39m, params, model, \u001b[38;5;241m*\u001b[39m\u001b[38;5;241m*\u001b[39mkwargs):\n\u001b[1;32m    216\u001b[0m \u001b[38;5;250m    \u001b[39m\u001b[38;5;124;03m\"\"\"Injects DynamoDB serialization into parameter input\"\"\"\u001b[39;00m\n\u001b[0;32m--> 217\u001b[0m     \u001b[38;5;28mself\u001b[39m\u001b[38;5;241m.\u001b[39m_transformer\u001b[38;5;241m.\u001b[39mtransform(\n\u001b[1;32m    218\u001b[0m         params,\n\u001b[1;32m    219\u001b[0m         model\u001b[38;5;241m.\u001b[39minput_shape,\n\u001b[1;32m    220\u001b[0m         \u001b[38;5;28mself\u001b[39m\u001b[38;5;241m.\u001b[39m_serializer\u001b[38;5;241m.\u001b[39mserialize,\n\u001b[1;32m    221\u001b[0m         \u001b[38;5;124m'\u001b[39m\u001b[38;5;124mAttributeValue\u001b[39m\u001b[38;5;124m'\u001b[39m,\n\u001b[1;32m    222\u001b[0m     )\n",
      "File \u001b[0;32m/opt/anaconda3/lib/python3.11/site-packages/boto3/dynamodb/transform.py:289\u001b[0m, in \u001b[0;36mParameterTransformer.transform\u001b[0;34m(self, params, model, transformation, target_shape)\u001b[0m\n\u001b[1;32m    277\u001b[0m \u001b[38;5;28;01mdef\u001b[39;00m \u001b[38;5;21mtransform\u001b[39m(\u001b[38;5;28mself\u001b[39m, params, model, transformation, target_shape):\n\u001b[1;32m    278\u001b[0m \u001b[38;5;250m    \u001b[39m\u001b[38;5;124;03m\"\"\"Transforms the dynamodb input to or output from botocore\u001b[39;00m\n\u001b[1;32m    279\u001b[0m \n\u001b[1;32m    280\u001b[0m \u001b[38;5;124;03m    It applies a specified transformation whenever a specific shape name\u001b[39;00m\n\u001b[0;32m   (...)\u001b[0m\n\u001b[1;32m    287\u001b[0m \u001b[38;5;124;03m        transformation to\u001b[39;00m\n\u001b[1;32m    288\u001b[0m \u001b[38;5;124;03m    \"\"\"\u001b[39;00m\n\u001b[0;32m--> 289\u001b[0m     \u001b[38;5;28mself\u001b[39m\u001b[38;5;241m.\u001b[39m_transform_parameters(model, params, transformation, target_shape)\n",
      "File \u001b[0;32m/opt/anaconda3/lib/python3.11/site-packages/boto3/dynamodb/transform.py:296\u001b[0m, in \u001b[0;36mParameterTransformer._transform_parameters\u001b[0;34m(self, model, params, transformation, target_shape)\u001b[0m\n\u001b[1;32m    294\u001b[0m type_name \u001b[38;5;241m=\u001b[39m model\u001b[38;5;241m.\u001b[39mtype_name\n\u001b[1;32m    295\u001b[0m \u001b[38;5;28;01mif\u001b[39;00m type_name \u001b[38;5;129;01min\u001b[39;00m (\u001b[38;5;124m'\u001b[39m\u001b[38;5;124mstructure\u001b[39m\u001b[38;5;124m'\u001b[39m, \u001b[38;5;124m'\u001b[39m\u001b[38;5;124mmap\u001b[39m\u001b[38;5;124m'\u001b[39m, \u001b[38;5;124m'\u001b[39m\u001b[38;5;124mlist\u001b[39m\u001b[38;5;124m'\u001b[39m):\n\u001b[0;32m--> 296\u001b[0m     \u001b[38;5;28mgetattr\u001b[39m(\u001b[38;5;28mself\u001b[39m, \u001b[38;5;124mf\u001b[39m\u001b[38;5;124m'\u001b[39m\u001b[38;5;124m_transform_\u001b[39m\u001b[38;5;132;01m{\u001b[39;00mtype_name\u001b[38;5;132;01m}\u001b[39;00m\u001b[38;5;124m'\u001b[39m)(\n\u001b[1;32m    297\u001b[0m         model, params, transformation, target_shape\n\u001b[1;32m    298\u001b[0m     )\n",
      "File \u001b[0;32m/opt/anaconda3/lib/python3.11/site-packages/boto3/dynamodb/transform.py:312\u001b[0m, in \u001b[0;36mParameterTransformer._transform_structure\u001b[0;34m(self, model, params, transformation, target_shape)\u001b[0m\n\u001b[1;32m    310\u001b[0m     params[param] \u001b[38;5;241m=\u001b[39m transformation(params[param])\n\u001b[1;32m    311\u001b[0m \u001b[38;5;28;01melse\u001b[39;00m:\n\u001b[0;32m--> 312\u001b[0m     \u001b[38;5;28mself\u001b[39m\u001b[38;5;241m.\u001b[39m_transform_parameters(\n\u001b[1;32m    313\u001b[0m         member_model,\n\u001b[1;32m    314\u001b[0m         params[param],\n\u001b[1;32m    315\u001b[0m         transformation,\n\u001b[1;32m    316\u001b[0m         target_shape,\n\u001b[1;32m    317\u001b[0m     )\n",
      "File \u001b[0;32m/opt/anaconda3/lib/python3.11/site-packages/boto3/dynamodb/transform.py:296\u001b[0m, in \u001b[0;36mParameterTransformer._transform_parameters\u001b[0;34m(self, model, params, transformation, target_shape)\u001b[0m\n\u001b[1;32m    294\u001b[0m type_name \u001b[38;5;241m=\u001b[39m model\u001b[38;5;241m.\u001b[39mtype_name\n\u001b[1;32m    295\u001b[0m \u001b[38;5;28;01mif\u001b[39;00m type_name \u001b[38;5;129;01min\u001b[39;00m (\u001b[38;5;124m'\u001b[39m\u001b[38;5;124mstructure\u001b[39m\u001b[38;5;124m'\u001b[39m, \u001b[38;5;124m'\u001b[39m\u001b[38;5;124mmap\u001b[39m\u001b[38;5;124m'\u001b[39m, \u001b[38;5;124m'\u001b[39m\u001b[38;5;124mlist\u001b[39m\u001b[38;5;124m'\u001b[39m):\n\u001b[0;32m--> 296\u001b[0m     \u001b[38;5;28mgetattr\u001b[39m(\u001b[38;5;28mself\u001b[39m, \u001b[38;5;124mf\u001b[39m\u001b[38;5;124m'\u001b[39m\u001b[38;5;124m_transform_\u001b[39m\u001b[38;5;132;01m{\u001b[39;00mtype_name\u001b[38;5;132;01m}\u001b[39;00m\u001b[38;5;124m'\u001b[39m)(\n\u001b[1;32m    297\u001b[0m         model, params, transformation, target_shape\n\u001b[1;32m    298\u001b[0m     )\n",
      "File \u001b[0;32m/opt/anaconda3/lib/python3.11/site-packages/boto3/dynamodb/transform.py:328\u001b[0m, in \u001b[0;36mParameterTransformer._transform_map\u001b[0;34m(self, model, params, transformation, target_shape)\u001b[0m\n\u001b[1;32m    326\u001b[0m     params[key] \u001b[38;5;241m=\u001b[39m transformation(value)\n\u001b[1;32m    327\u001b[0m \u001b[38;5;28;01melse\u001b[39;00m:\n\u001b[0;32m--> 328\u001b[0m     \u001b[38;5;28mself\u001b[39m\u001b[38;5;241m.\u001b[39m_transform_parameters(\n\u001b[1;32m    329\u001b[0m         value_model, params[key], transformation, target_shape\n\u001b[1;32m    330\u001b[0m     )\n",
      "File \u001b[0;32m/opt/anaconda3/lib/python3.11/site-packages/boto3/dynamodb/transform.py:296\u001b[0m, in \u001b[0;36mParameterTransformer._transform_parameters\u001b[0;34m(self, model, params, transformation, target_shape)\u001b[0m\n\u001b[1;32m    294\u001b[0m type_name \u001b[38;5;241m=\u001b[39m model\u001b[38;5;241m.\u001b[39mtype_name\n\u001b[1;32m    295\u001b[0m \u001b[38;5;28;01mif\u001b[39;00m type_name \u001b[38;5;129;01min\u001b[39;00m (\u001b[38;5;124m'\u001b[39m\u001b[38;5;124mstructure\u001b[39m\u001b[38;5;124m'\u001b[39m, \u001b[38;5;124m'\u001b[39m\u001b[38;5;124mmap\u001b[39m\u001b[38;5;124m'\u001b[39m, \u001b[38;5;124m'\u001b[39m\u001b[38;5;124mlist\u001b[39m\u001b[38;5;124m'\u001b[39m):\n\u001b[0;32m--> 296\u001b[0m     \u001b[38;5;28mgetattr\u001b[39m(\u001b[38;5;28mself\u001b[39m, \u001b[38;5;124mf\u001b[39m\u001b[38;5;124m'\u001b[39m\u001b[38;5;124m_transform_\u001b[39m\u001b[38;5;132;01m{\u001b[39;00mtype_name\u001b[38;5;132;01m}\u001b[39;00m\u001b[38;5;124m'\u001b[39m)(\n\u001b[1;32m    297\u001b[0m         model, params, transformation, target_shape\n\u001b[1;32m    298\u001b[0m     )\n",
      "File \u001b[0;32m/opt/anaconda3/lib/python3.11/site-packages/boto3/dynamodb/transform.py:341\u001b[0m, in \u001b[0;36mParameterTransformer._transform_list\u001b[0;34m(self, model, params, transformation, target_shape)\u001b[0m\n\u001b[1;32m    339\u001b[0m     params[i] \u001b[38;5;241m=\u001b[39m transformation(item)\n\u001b[1;32m    340\u001b[0m \u001b[38;5;28;01melse\u001b[39;00m:\n\u001b[0;32m--> 341\u001b[0m     \u001b[38;5;28mself\u001b[39m\u001b[38;5;241m.\u001b[39m_transform_parameters(\n\u001b[1;32m    342\u001b[0m         member_model, params[i], transformation, target_shape\n\u001b[1;32m    343\u001b[0m     )\n",
      "File \u001b[0;32m/opt/anaconda3/lib/python3.11/site-packages/boto3/dynamodb/transform.py:296\u001b[0m, in \u001b[0;36mParameterTransformer._transform_parameters\u001b[0;34m(self, model, params, transformation, target_shape)\u001b[0m\n\u001b[1;32m    294\u001b[0m type_name \u001b[38;5;241m=\u001b[39m model\u001b[38;5;241m.\u001b[39mtype_name\n\u001b[1;32m    295\u001b[0m \u001b[38;5;28;01mif\u001b[39;00m type_name \u001b[38;5;129;01min\u001b[39;00m (\u001b[38;5;124m'\u001b[39m\u001b[38;5;124mstructure\u001b[39m\u001b[38;5;124m'\u001b[39m, \u001b[38;5;124m'\u001b[39m\u001b[38;5;124mmap\u001b[39m\u001b[38;5;124m'\u001b[39m, \u001b[38;5;124m'\u001b[39m\u001b[38;5;124mlist\u001b[39m\u001b[38;5;124m'\u001b[39m):\n\u001b[0;32m--> 296\u001b[0m     \u001b[38;5;28mgetattr\u001b[39m(\u001b[38;5;28mself\u001b[39m, \u001b[38;5;124mf\u001b[39m\u001b[38;5;124m'\u001b[39m\u001b[38;5;124m_transform_\u001b[39m\u001b[38;5;132;01m{\u001b[39;00mtype_name\u001b[38;5;132;01m}\u001b[39;00m\u001b[38;5;124m'\u001b[39m)(\n\u001b[1;32m    297\u001b[0m         model, params, transformation, target_shape\n\u001b[1;32m    298\u001b[0m     )\n",
      "File \u001b[0;32m/opt/anaconda3/lib/python3.11/site-packages/boto3/dynamodb/transform.py:312\u001b[0m, in \u001b[0;36mParameterTransformer._transform_structure\u001b[0;34m(self, model, params, transformation, target_shape)\u001b[0m\n\u001b[1;32m    310\u001b[0m     params[param] \u001b[38;5;241m=\u001b[39m transformation(params[param])\n\u001b[1;32m    311\u001b[0m \u001b[38;5;28;01melse\u001b[39;00m:\n\u001b[0;32m--> 312\u001b[0m     \u001b[38;5;28mself\u001b[39m\u001b[38;5;241m.\u001b[39m_transform_parameters(\n\u001b[1;32m    313\u001b[0m         member_model,\n\u001b[1;32m    314\u001b[0m         params[param],\n\u001b[1;32m    315\u001b[0m         transformation,\n\u001b[1;32m    316\u001b[0m         target_shape,\n\u001b[1;32m    317\u001b[0m     )\n",
      "File \u001b[0;32m/opt/anaconda3/lib/python3.11/site-packages/boto3/dynamodb/transform.py:296\u001b[0m, in \u001b[0;36mParameterTransformer._transform_parameters\u001b[0;34m(self, model, params, transformation, target_shape)\u001b[0m\n\u001b[1;32m    294\u001b[0m type_name \u001b[38;5;241m=\u001b[39m model\u001b[38;5;241m.\u001b[39mtype_name\n\u001b[1;32m    295\u001b[0m \u001b[38;5;28;01mif\u001b[39;00m type_name \u001b[38;5;129;01min\u001b[39;00m (\u001b[38;5;124m'\u001b[39m\u001b[38;5;124mstructure\u001b[39m\u001b[38;5;124m'\u001b[39m, \u001b[38;5;124m'\u001b[39m\u001b[38;5;124mmap\u001b[39m\u001b[38;5;124m'\u001b[39m, \u001b[38;5;124m'\u001b[39m\u001b[38;5;124mlist\u001b[39m\u001b[38;5;124m'\u001b[39m):\n\u001b[0;32m--> 296\u001b[0m     \u001b[38;5;28mgetattr\u001b[39m(\u001b[38;5;28mself\u001b[39m, \u001b[38;5;124mf\u001b[39m\u001b[38;5;124m'\u001b[39m\u001b[38;5;124m_transform_\u001b[39m\u001b[38;5;132;01m{\u001b[39;00mtype_name\u001b[38;5;132;01m}\u001b[39;00m\u001b[38;5;124m'\u001b[39m)(\n\u001b[1;32m    297\u001b[0m         model, params, transformation, target_shape\n\u001b[1;32m    298\u001b[0m     )\n",
      "File \u001b[0;32m/opt/anaconda3/lib/python3.11/site-packages/boto3/dynamodb/transform.py:312\u001b[0m, in \u001b[0;36mParameterTransformer._transform_structure\u001b[0;34m(self, model, params, transformation, target_shape)\u001b[0m\n\u001b[1;32m    310\u001b[0m     params[param] \u001b[38;5;241m=\u001b[39m transformation(params[param])\n\u001b[1;32m    311\u001b[0m \u001b[38;5;28;01melse\u001b[39;00m:\n\u001b[0;32m--> 312\u001b[0m     \u001b[38;5;28mself\u001b[39m\u001b[38;5;241m.\u001b[39m_transform_parameters(\n\u001b[1;32m    313\u001b[0m         member_model,\n\u001b[1;32m    314\u001b[0m         params[param],\n\u001b[1;32m    315\u001b[0m         transformation,\n\u001b[1;32m    316\u001b[0m         target_shape,\n\u001b[1;32m    317\u001b[0m     )\n",
      "File \u001b[0;32m/opt/anaconda3/lib/python3.11/site-packages/boto3/dynamodb/transform.py:296\u001b[0m, in \u001b[0;36mParameterTransformer._transform_parameters\u001b[0;34m(self, model, params, transformation, target_shape)\u001b[0m\n\u001b[1;32m    294\u001b[0m type_name \u001b[38;5;241m=\u001b[39m model\u001b[38;5;241m.\u001b[39mtype_name\n\u001b[1;32m    295\u001b[0m \u001b[38;5;28;01mif\u001b[39;00m type_name \u001b[38;5;129;01min\u001b[39;00m (\u001b[38;5;124m'\u001b[39m\u001b[38;5;124mstructure\u001b[39m\u001b[38;5;124m'\u001b[39m, \u001b[38;5;124m'\u001b[39m\u001b[38;5;124mmap\u001b[39m\u001b[38;5;124m'\u001b[39m, \u001b[38;5;124m'\u001b[39m\u001b[38;5;124mlist\u001b[39m\u001b[38;5;124m'\u001b[39m):\n\u001b[0;32m--> 296\u001b[0m     \u001b[38;5;28mgetattr\u001b[39m(\u001b[38;5;28mself\u001b[39m, \u001b[38;5;124mf\u001b[39m\u001b[38;5;124m'\u001b[39m\u001b[38;5;124m_transform_\u001b[39m\u001b[38;5;132;01m{\u001b[39;00mtype_name\u001b[38;5;132;01m}\u001b[39;00m\u001b[38;5;124m'\u001b[39m)(\n\u001b[1;32m    297\u001b[0m         model, params, transformation, target_shape\n\u001b[1;32m    298\u001b[0m     )\n",
      "File \u001b[0;32m/opt/anaconda3/lib/python3.11/site-packages/boto3/dynamodb/transform.py:326\u001b[0m, in \u001b[0;36mParameterTransformer._transform_map\u001b[0;34m(self, model, params, transformation, target_shape)\u001b[0m\n\u001b[1;32m    324\u001b[0m \u001b[38;5;28;01mfor\u001b[39;00m key, value \u001b[38;5;129;01min\u001b[39;00m params\u001b[38;5;241m.\u001b[39mitems():\n\u001b[1;32m    325\u001b[0m     \u001b[38;5;28;01mif\u001b[39;00m value_shape \u001b[38;5;241m==\u001b[39m target_shape:\n\u001b[0;32m--> 326\u001b[0m         params[key] \u001b[38;5;241m=\u001b[39m transformation(value)\n\u001b[1;32m    327\u001b[0m     \u001b[38;5;28;01melse\u001b[39;00m:\n\u001b[1;32m    328\u001b[0m         \u001b[38;5;28mself\u001b[39m\u001b[38;5;241m.\u001b[39m_transform_parameters(\n\u001b[1;32m    329\u001b[0m             value_model, params[key], transformation, target_shape\n\u001b[1;32m    330\u001b[0m         )\n",
      "File \u001b[0;32m/opt/anaconda3/lib/python3.11/site-packages/boto3/dynamodb/types.py:114\u001b[0m, in \u001b[0;36mTypeSerializer.serialize\u001b[0;34m(self, value)\u001b[0m\n\u001b[1;32m     86\u001b[0m \u001b[38;5;28;01mdef\u001b[39;00m \u001b[38;5;21mserialize\u001b[39m(\u001b[38;5;28mself\u001b[39m, value):\n\u001b[1;32m     87\u001b[0m \u001b[38;5;250m    \u001b[39m\u001b[38;5;124;03m\"\"\"The method to serialize the Python data types.\u001b[39;00m\n\u001b[1;32m     88\u001b[0m \n\u001b[1;32m     89\u001b[0m \u001b[38;5;124;03m    :param value: A python value to be serialized to DynamoDB. Here are\u001b[39;00m\n\u001b[0;32m   (...)\u001b[0m\n\u001b[1;32m    112\u001b[0m \u001b[38;5;124;03m        dictionaries can be directly passed to botocore methods.\u001b[39;00m\n\u001b[1;32m    113\u001b[0m \u001b[38;5;124;03m    \"\"\"\u001b[39;00m\n\u001b[0;32m--> 114\u001b[0m     dynamodb_type \u001b[38;5;241m=\u001b[39m \u001b[38;5;28mself\u001b[39m\u001b[38;5;241m.\u001b[39m_get_dynamodb_type(value)\n\u001b[1;32m    115\u001b[0m     serializer \u001b[38;5;241m=\u001b[39m \u001b[38;5;28mgetattr\u001b[39m(\u001b[38;5;28mself\u001b[39m, \u001b[38;5;124mf\u001b[39m\u001b[38;5;124m'\u001b[39m\u001b[38;5;124m_serialize_\u001b[39m\u001b[38;5;132;01m{\u001b[39;00mdynamodb_type\u001b[38;5;132;01m}\u001b[39;00m\u001b[38;5;124m'\u001b[39m\u001b[38;5;241m.\u001b[39mlower())\n\u001b[1;32m    116\u001b[0m     \u001b[38;5;28;01mreturn\u001b[39;00m {dynamodb_type: serializer(value)}\n",
      "File \u001b[0;32m/opt/anaconda3/lib/python3.11/site-packages/boto3/dynamodb/types.py:127\u001b[0m, in \u001b[0;36mTypeSerializer._get_dynamodb_type\u001b[0;34m(self, value)\u001b[0m\n\u001b[1;32m    124\u001b[0m \u001b[38;5;28;01melif\u001b[39;00m \u001b[38;5;28mself\u001b[39m\u001b[38;5;241m.\u001b[39m_is_boolean(value):\n\u001b[1;32m    125\u001b[0m     dynamodb_type \u001b[38;5;241m=\u001b[39m BOOLEAN\n\u001b[0;32m--> 127\u001b[0m \u001b[38;5;28;01melif\u001b[39;00m \u001b[38;5;28mself\u001b[39m\u001b[38;5;241m.\u001b[39m_is_number(value):\n\u001b[1;32m    128\u001b[0m     dynamodb_type \u001b[38;5;241m=\u001b[39m NUMBER\n\u001b[1;32m    130\u001b[0m \u001b[38;5;28;01melif\u001b[39;00m \u001b[38;5;28mself\u001b[39m\u001b[38;5;241m.\u001b[39m_is_string(value):\n",
      "File \u001b[0;32m/opt/anaconda3/lib/python3.11/site-packages/boto3/dynamodb/types.py:171\u001b[0m, in \u001b[0;36mTypeSerializer._is_number\u001b[0;34m(self, value)\u001b[0m\n\u001b[1;32m    169\u001b[0m     \u001b[38;5;28;01mreturn\u001b[39;00m \u001b[38;5;28;01mTrue\u001b[39;00m\n\u001b[1;32m    170\u001b[0m \u001b[38;5;28;01melif\u001b[39;00m \u001b[38;5;28misinstance\u001b[39m(value, \u001b[38;5;28mfloat\u001b[39m):\n\u001b[0;32m--> 171\u001b[0m     \u001b[38;5;28;01mraise\u001b[39;00m \u001b[38;5;167;01mTypeError\u001b[39;00m(\n\u001b[1;32m    172\u001b[0m         \u001b[38;5;124m'\u001b[39m\u001b[38;5;124mFloat types are not supported. Use Decimal types instead.\u001b[39m\u001b[38;5;124m'\u001b[39m\n\u001b[1;32m    173\u001b[0m     )\n\u001b[1;32m    174\u001b[0m \u001b[38;5;28;01mreturn\u001b[39;00m \u001b[38;5;28;01mFalse\u001b[39;00m\n",
      "\u001b[0;31mTypeError\u001b[0m: Float types are not supported. Use Decimal types instead."
     ]
    }
   ],
   "source": [
    "batch_write(data)"
   ]
  },
  {
   "cell_type": "code",
   "execution_count": null,
   "metadata": {},
   "outputs": [],
   "source": []
  }
 ],
 "metadata": {
  "kernelspec": {
   "display_name": "base",
   "language": "python",
   "name": "python3"
  },
  "language_info": {
   "codemirror_mode": {
    "name": "ipython",
    "version": 3
   },
   "file_extension": ".py",
   "mimetype": "text/x-python",
   "name": "python",
   "nbconvert_exporter": "python",
   "pygments_lexer": "ipython3",
   "version": "3.11.7"
  }
 },
 "nbformat": 4,
 "nbformat_minor": 2
}
